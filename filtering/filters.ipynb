{
 "cells": [
  {
   "cell_type": "code",
   "execution_count": 1,
   "metadata": {},
   "outputs": [],
   "source": [
    "import cv2\n",
    "import imageio\n",
    "\n",
    "from filters import gaussian_filtering\n",
    "from plotters import plot_laplacian, plot_prewitt, plot_prewitt_sobel, plot_sharpening\n",
    "import numpy as np\n",
    "from matplotlib import pyplot as plt\n",
    "\n",
    "from filters import (\n",
    "    apply_laplacian_filter,\n",
    "    apply_prewitt_filter,\n",
    "    apply_sharpening_filter,\n",
    "    apply_sobel_filter,\n",
    "    average_filter,\n",
    "    gaussian_filtering,\n",
    "    median_filtering,\n",
    ")\n",
    "\n"
   ]
  },
  {
   "cell_type": "code",
   "execution_count": 2,
   "metadata": {},
   "outputs": [
    {
     "name": "stdout",
     "output_type": "stream",
     "text": [
      "Image dimensions: (391, 433)\n"
     ]
    }
   ],
   "source": [
    "reader = imageio.get_reader(\"ct2.gif\")\n",
    "frames = list(reader)\n",
    "\n",
    "# Get the first frame (or choose any frame)\n",
    "frame = frames[0]\n",
    "image = cv2.cvtColor(frame, cv2.COLOR_RGBA2GRAY)\n",
    "print(\"Image dimensions:\", image.shape)"
   ]
  },
  {
   "cell_type": "code",
   "execution_count": 3,
   "metadata": {},
   "outputs": [],
   "source": [
    "image = gaussian_filtering(image)"
   ]
  },
  {
   "cell_type": "code",
   "execution_count": 4,
   "metadata": {},
   "outputs": [],
   "source": [
    "laplace = apply_laplacian_filter(image)"
   ]
  },
  {
   "cell_type": "code",
   "execution_count": 8,
   "metadata": {},
   "outputs": [
    {
     "data": {
      "text/plain": [
       "array([[0.0627451 , 0.0627451 , 0.0627451 , ..., 0.10588235, 0.28235294,\n",
       "        0.57647059],\n",
       "       [0.0627451 , 0.0627451 , 0.0627451 , ..., 0.10588235, 0.28235294,\n",
       "        0.58039216],\n",
       "       [0.0627451 , 0.0627451 , 0.0627451 , ..., 0.10588235, 0.28235294,\n",
       "        0.58039216],\n",
       "       ...,\n",
       "       [0.0627451 , 0.0627451 , 0.0627451 , ..., 0.10588235, 0.28235294,\n",
       "        0.58039216],\n",
       "       [0.0627451 , 0.0627451 , 0.0627451 , ..., 0.10588235, 0.28235294,\n",
       "        0.58039216],\n",
       "       [0.0627451 , 0.0627451 , 0.0627451 , ..., 0.10588235, 0.28235294,\n",
       "        0.57647059]])"
      ]
     },
     "execution_count": 8,
     "metadata": {},
     "output_type": "execute_result"
    }
   ],
   "source": [
    "image.astype(np.float64)/255"
   ]
  }
 ],
 "metadata": {
  "kernelspec": {
   "display_name": "venv",
   "language": "python",
   "name": "python3"
  },
  "language_info": {
   "codemirror_mode": {
    "name": "ipython",
    "version": 3
   },
   "file_extension": ".py",
   "mimetype": "text/x-python",
   "name": "python",
   "nbconvert_exporter": "python",
   "pygments_lexer": "ipython3",
   "version": "3.11.5"
  },
  "orig_nbformat": 4
 },
 "nbformat": 4,
 "nbformat_minor": 2
}
