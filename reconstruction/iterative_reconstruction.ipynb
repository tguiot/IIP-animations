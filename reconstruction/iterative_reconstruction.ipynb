{
 "cells": [
  {
   "cell_type": "code",
   "execution_count": null,
   "metadata": {},
   "outputs": [],
   "source": [
    "from skimage.data import shepp_logan_phantom\n",
    "from skimage.transform import radon, iradon, rescale\n",
    "import matplotlib.pyplot as plt\n",
    "import numpy as np\n",
    "from IPython.display import display, clear_output"
   ]
  },
  {
   "cell_type": "code",
   "execution_count": null,
   "metadata": {},
   "outputs": [],
   "source": [
    "fig, axs = plt.subplots(2, 3, figsize=(20,10))"
   ]
  },
  {
   "cell_type": "code",
   "execution_count": null,
   "metadata": {},
   "outputs": [],
   "source": [
    "#Definition of the true object\n",
    "activity_level = 0.1\n",
    "true_object = shepp_logan_phantom()\n",
    "true_object = rescale(activity_level*true_object, 0.5)\n",
    "plt.imshow(true_object, cmap='Greys_r')"
   ]
  },
  {
   "cell_type": "code",
   "execution_count": null,
   "metadata": {},
   "outputs": [],
   "source": [
    "# Generate simulated sinogram data\n",
    "azi_angles = np.linspace(0.0, 180.0, 180, endpoint=False)\n",
    "sinogram = radon(true_object, azi_angles, circle=False)\n",
    "plt.imshow(sinogram.T, cmap='Greys_r')"
   ]
  },
  {
   "cell_type": "code",
   "execution_count": null,
   "metadata": {},
   "outputs": [],
   "source": [
    "# Define image estimation at iteration zero\n",
    "mlem_rec = np.ones(true_object.shape)"
   ]
  },
  {
   "cell_type": "code",
   "execution_count": null,
   "metadata": {},
   "outputs": [],
   "source": [
    "# Define the sensitivity image\n",
    "sino_ones = np.ones(sinogram.shape)\n",
    "sens_image = iradon(sino_ones, azi_angles, circle=False, filter_name=None)"
   ]
  },
  {
   "cell_type": "code",
   "execution_count": null,
   "metadata": {},
   "outputs": [],
   "source": [
    "# Iterate\n",
    "for iter in range(20):\n",
    "    fp = radon(mlem_rec, azi_angles, circle=False)  # Forward projection\n",
    "    ratio = sinogram / (fp + 0.000001)  # division (with safety offset in case of zero values)\n",
    "    correction = iradon(ratio, azi_angles, circle=False, filter_name=None) / sens_image  # backprojection\n",
    "\n",
    "    axs[0, 0].imshow(true_object, cmap='Greys_r');  axs[0, 0].set_title('Object')\n",
    "    axs[0, 1].imshow(sinogram.T, cmap='Greys_r');   axs[0, 1].set_title('Sinogram')\n",
    "    axs[0, 2].imshow(ratio.T, cmap='Greys_r');      axs[0, 2].set_title('Ratio Sinogram')\n",
    "    axs[1, 0].imshow(mlem_rec, cmap='Greys_r');   axs[1, 0].set_title(f'MLEM recon It={iter+1}')\n",
    "    axs[1, 1].imshow(fp.T, cmap='Greys_r');         axs[1, 1].set_title('FP of recon')\n",
    "    axs[1, 2].imshow(correction, cmap='Greys_r');   axs[1, 2].set_title('BP of ratio')\n",
    "\n",
    "    mlem_rec = mlem_rec * correction\n",
    "    display(fig)\n",
    "    clear_output(wait=True)\n",
    "    plt.pause(0.1)\n"
   ]
  }
 ],
 "metadata": {
  "kernelspec": {
   "display_name": "venv",
   "language": "python",
   "name": "python3"
  },
  "language_info": {
   "codemirror_mode": {
    "name": "ipython",
    "version": 3
   },
   "file_extension": ".py",
   "mimetype": "text/x-python",
   "name": "python",
   "nbconvert_exporter": "python",
   "pygments_lexer": "ipython3",
   "version": "3.11.5"
  }
 },
 "nbformat": 4,
 "nbformat_minor": 2
}
